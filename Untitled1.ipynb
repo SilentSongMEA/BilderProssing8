{
 "cells": [
  {
   "cell_type": "code",
   "execution_count": 3,
   "id": "b41e8fbb-fac8-4222-9535-70ae6a9de8b9",
   "metadata": {},
   "outputs": [],
   "source": [
    "import cv2\n",
    "import matplotlib.pyplot as plt\n",
    "import numpy as np\n",
    "from sklearn.cluster import KMeans"
   ]
  },
  {
   "cell_type": "code",
   "execution_count": 43,
   "id": "0245ab78-5078-4c45-b934-719fb70ecde6",
   "metadata": {},
   "outputs": [],
   "source": [
    "n_cluster=10\n",
    "img=cv2.imread(r\"C:\\Users\\Student\\Desktop\\pic8\\002.jpeg\")\n",
    "flat_img=img.reshape((-1,3))\n",
    "kmeans=KMeans(n_clusters=n_cluster)\n",
    "kmeans.fit(flat_img)\n",
    "dominant_color=np.array(kmeans.cluster_centers_,dtype=\"uint8\")\n",
    "labels=kmeans.labels_"
   ]
  },
  {
   "cell_type": "code",
   "execution_count": 45,
   "id": "35a16484-30f5-4445-9116-fb16b2861c77",
   "metadata": {},
   "outputs": [
    {
     "name": "stdout",
     "output_type": "stream",
     "text": [
      "[[252 253 253]\n",
      " [ 43 174 157]\n",
      " [101 235 246]\n",
      " [ 87  96 227]\n",
      " [ 26 117  88]\n",
      " [ 27 191 221]\n",
      " [192 217 226]\n",
      " [136 149 236]\n",
      " [ 30  36 202]\n",
      " [ 87 203 194]]\n"
     ]
    }
   ],
   "source": [
    "print(dominant_color)"
   ]
  },
  {
   "cell_type": "code",
   "execution_count": 47,
   "id": "f020ce27-ee3e-451f-9a8a-d2c605064b61",
   "metadata": {},
   "outputs": [
    {
     "name": "stdout",
     "output_type": "stream",
     "text": [
      "{0, 1, 2, 3, 4, 5, 6, 7, 8, 9}\n"
     ]
    }
   ],
   "source": [
    "print(set(labels))"
   ]
  },
  {
   "cell_type": "code",
   "execution_count": 49,
   "id": "c410f879-a6ef-4dc8-960e-fb0fce15da28",
   "metadata": {},
   "outputs": [
    {
     "data": {
      "text/plain": [
       "(array([0, 1, 2, 3, 4, 5, 6, 7, 8, 9]),\n",
       " array([25436,  2410,  4186,  2096,  2406,  6057,  2007,  1604,  1814,\n",
       "         2474], dtype=int64))"
      ]
     },
     "execution_count": 49,
     "metadata": {},
     "output_type": "execute_result"
    }
   ],
   "source": [
    "np.unique(labels,return_counts=True)"
   ]
  },
  {
   "cell_type": "code",
   "execution_count": 51,
   "id": "5a37cdf6-1047-4447-b40f-2b37bf1c7f78",
   "metadata": {},
   "outputs": [
    {
     "data": {
      "text/plain": [
       "array([0.50378293, 0.04773222, 0.08290751, 0.04151317, 0.047653  ,\n",
       "       0.11996435, 0.03975045, 0.03176867, 0.03592791, 0.0489998 ])"
      ]
     },
     "execution_count": 51,
     "metadata": {},
     "output_type": "execute_result"
    }
   ],
   "source": [
    "percentage=np.bincount(labels)/len(flat_img)\n",
    "percentage"
   ]
  },
  {
   "cell_type": "code",
   "execution_count": 53,
   "id": "89c51ec9-96da-4a5d-8bb2-27391ddd44f2",
   "metadata": {},
   "outputs": [
    {
     "data": {
      "image/png": "[encoded data removed]",
      "text/plain": [
       "<Figure size 1200x800 with 10 Axes>"
      ]
     },
     "metadata": {},
     "output_type": "display_data"
    }
   ],
   "source": [
    "p_and_c=zip(percentage,dominant_color)\n",
    "p_and_c=sorted(p_and_c,reverse=True)\n",
    "block=np.ones((50,50,3),dtype=\"uint8\")\n",
    "plt.figure(figsize=(12,8))\n",
    "for i in range(n_cluster):\n",
    "    plt.subplot(1,n_cluster,i+1)\n",
    "    block[:]=p_and_c[i][1][::-1]\n",
    "    plt.imshow(block)\n",
    "    plt.xticks([])\n",
    "    plt.yticks([])\n",
    "    plt.xlabel(str(round(p_and_c[i][0]*100,2))+\"%\")"
   ]
  },
  {
   "cell_type": "code",
   "execution_count": null,
   "id": "bd9e6f32-355d-443d-9356-1e3e994dc30a",
   "metadata": {},
   "outputs": [],
   "source": []
  },
  {
   "cell_type": "code",
   "execution_count": null,
   "id": "4bba0ce1-1fc4-4b1e-9af2-7e84997c91bd",
   "metadata": {},
   "outputs": [],
   "source": []
  }
 ],
 "metadata": {
  "kernelspec": {
   "display_name": "Python 3 (ipykernel)",
   "language": "python",
   "name": "python3"
  },
  "language_info": {
   "codemirror_mode": {
    "name": "ipython",
    "version": 3
   },
   "file_extension": ".py",
   "mimetype": "text/x-python",
   "name": "python",
   "nbconvert_exporter": "python",
   "pygments_lexer": "ipython3",
   "version": "3.12.7"
  }
 },
 "nbformat": 4,
 "nbformat_minor": 5
}
